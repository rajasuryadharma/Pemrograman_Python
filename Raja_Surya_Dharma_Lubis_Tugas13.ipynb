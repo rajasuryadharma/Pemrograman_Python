{
  "nbformat": 4,
  "nbformat_minor": 0,
  "metadata": {
    "colab": {
      "name": "Raja Surya Dharma Lubis_Tugas13.ipynb",
      "provenance": [],
      "authorship_tag": "ABX9TyO9ZIlt6e3bWaYd9Uh5S5Fz",
      "include_colab_link": true
    },
    "kernelspec": {
      "name": "python3",
      "display_name": "Python 3"
    }
  },
  "cells": [
    {
      "cell_type": "markdown",
      "metadata": {
        "id": "view-in-github",
        "colab_type": "text"
      },
      "source": [
        "<a href=\"https://colab.research.google.com/github/rajasuryadharma/Pemrograman_Python/blob/main/Raja_Surya_Dharma_Lubis_Tugas13.ipynb\" target=\"_parent\"><img src=\"https://colab.research.google.com/assets/colab-badge.svg\" alt=\"Open In Colab\"/></a>"
      ]
    },
    {
      "cell_type": "markdown",
      "metadata": {
        "id": "cjSkt7Lfee0O"
      },
      "source": [
        "Nama : Raja Surya Dharma Lubis\r\n",
        "\r\n",
        "NIM : 1101184114\r\n",
        "\r\n",
        "Kelas: TT-43-G2"
      ]
    },
    {
      "cell_type": "code",
      "metadata": {
        "id": "8i_CpIElGdmu"
      },
      "source": [
        "import numpy as np\r\n",
        "import matplotlib.pyplot as plt"
      ],
      "execution_count": 1,
      "outputs": []
    },
    {
      "cell_type": "code",
      "metadata": {
        "colab": {
          "base_uri": "https://localhost:8080/"
        },
        "id": "n0YuH2C-GxyT",
        "outputId": "ac2ea1a6-a744-4c42-a5bd-5d9d33e8a751"
      },
      "source": [
        "np.zeros(4)"
      ],
      "execution_count": 2,
      "outputs": [
        {
          "output_type": "execute_result",
          "data": {
            "text/plain": [
              "array([0., 0., 0., 0.])"
            ]
          },
          "metadata": {
            "tags": []
          },
          "execution_count": 2
        }
      ]
    },
    {
      "cell_type": "code",
      "metadata": {
        "colab": {
          "base_uri": "https://localhost:8080/"
        },
        "id": "rro5kUCTHSur",
        "outputId": "89f1ad46-2637-4350-b5b8-812449b38734"
      },
      "source": [
        "np.ones(3)"
      ],
      "execution_count": 3,
      "outputs": [
        {
          "output_type": "execute_result",
          "data": {
            "text/plain": [
              "array([1., 1., 1.])"
            ]
          },
          "metadata": {
            "tags": []
          },
          "execution_count": 3
        }
      ]
    },
    {
      "cell_type": "code",
      "metadata": {
        "colab": {
          "base_uri": "https://localhost:8080/"
        },
        "id": "wULh3qz6HZ8G",
        "outputId": "6b754cb0-edcb-48e8-da5a-b56fa349ec97"
      },
      "source": [
        "np.zeros((3,4))"
      ],
      "execution_count": 4,
      "outputs": [
        {
          "output_type": "execute_result",
          "data": {
            "text/plain": [
              "array([[0., 0., 0., 0.],\n",
              "       [0., 0., 0., 0.],\n",
              "       [0., 0., 0., 0.]])"
            ]
          },
          "metadata": {
            "tags": []
          },
          "execution_count": 4
        }
      ]
    },
    {
      "cell_type": "code",
      "metadata": {
        "colab": {
          "base_uri": "https://localhost:8080/"
        },
        "id": "Z5JIaVutHml3",
        "outputId": "2267b894-a9c2-4451-dcf8-ad3cd54a4149"
      },
      "source": [
        "np.ones((5,2))"
      ],
      "execution_count": 5,
      "outputs": [
        {
          "output_type": "execute_result",
          "data": {
            "text/plain": [
              "array([[1., 1.],\n",
              "       [1., 1.],\n",
              "       [1., 1.],\n",
              "       [1., 1.],\n",
              "       [1., 1.]])"
            ]
          },
          "metadata": {
            "tags": []
          },
          "execution_count": 5
        }
      ]
    },
    {
      "cell_type": "code",
      "metadata": {
        "colab": {
          "base_uri": "https://localhost:8080/"
        },
        "id": "xLTMiWKTHrYS",
        "outputId": "3d757725-722e-4c10-9645-d2b3deae18ee"
      },
      "source": [
        "np.arange(10)"
      ],
      "execution_count": 6,
      "outputs": [
        {
          "output_type": "execute_result",
          "data": {
            "text/plain": [
              "array([0, 1, 2, 3, 4, 5, 6, 7, 8, 9])"
            ]
          },
          "metadata": {
            "tags": []
          },
          "execution_count": 6
        }
      ]
    },
    {
      "cell_type": "code",
      "metadata": {
        "colab": {
          "base_uri": "https://localhost:8080/"
        },
        "id": "_xDPabG7HzGt",
        "outputId": "24546f7f-9d76-4a6f-9a2c-71564e969833"
      },
      "source": [
        "np.arange(2,10)"
      ],
      "execution_count": 7,
      "outputs": [
        {
          "output_type": "execute_result",
          "data": {
            "text/plain": [
              "array([2, 3, 4, 5, 6, 7, 8, 9])"
            ]
          },
          "metadata": {
            "tags": []
          },
          "execution_count": 7
        }
      ]
    },
    {
      "cell_type": "code",
      "metadata": {
        "colab": {
          "base_uri": "https://localhost:8080/"
        },
        "id": "WAlJRpl6H1v5",
        "outputId": "e33dcf59-1807-450a-b176-cf2afa6b6b00"
      },
      "source": [
        "np.arange(3,47,4)"
      ],
      "execution_count": 8,
      "outputs": [
        {
          "output_type": "execute_result",
          "data": {
            "text/plain": [
              "array([ 3,  7, 11, 15, 19, 23, 27, 31, 35, 39, 43])"
            ]
          },
          "metadata": {
            "tags": []
          },
          "execution_count": 8
        }
      ]
    },
    {
      "cell_type": "code",
      "metadata": {
        "colab": {
          "base_uri": "https://localhost:8080/"
        },
        "id": "GTSOCm6WIOf3",
        "outputId": "9980cd9d-efa8-4691-9639-29f9a48aa853"
      },
      "source": [
        "np.arange(4,5,0.2)"
      ],
      "execution_count": 9,
      "outputs": [
        {
          "output_type": "execute_result",
          "data": {
            "text/plain": [
              "array([4. , 4.2, 4.4, 4.6, 4.8])"
            ]
          },
          "metadata": {
            "tags": []
          },
          "execution_count": 9
        }
      ]
    },
    {
      "cell_type": "code",
      "metadata": {
        "colab": {
          "base_uri": "https://localhost:8080/"
        },
        "id": "UDDY28ivIhzI",
        "outputId": "f2d15668-793a-4f92-964c-954aa9c7c856"
      },
      "source": [
        "np.arange(4,5,0.1)"
      ],
      "execution_count": 10,
      "outputs": [
        {
          "output_type": "execute_result",
          "data": {
            "text/plain": [
              "array([4. , 4.1, 4.2, 4.3, 4.4, 4.5, 4.6, 4.7, 4.8, 4.9])"
            ]
          },
          "metadata": {
            "tags": []
          },
          "execution_count": 10
        }
      ]
    },
    {
      "cell_type": "code",
      "metadata": {
        "colab": {
          "base_uri": "https://localhost:8080/"
        },
        "id": "UujzGfbxIkSt",
        "outputId": "64b2f999-6e1c-4ff6-d65d-86edbc9b0d8a"
      },
      "source": [
        "np.arange(20,5,-5)"
      ],
      "execution_count": 11,
      "outputs": [
        {
          "output_type": "execute_result",
          "data": {
            "text/plain": [
              "array([20, 15, 10])"
            ]
          },
          "metadata": {
            "tags": []
          },
          "execution_count": 11
        }
      ]
    },
    {
      "cell_type": "code",
      "metadata": {
        "colab": {
          "base_uri": "https://localhost:8080/"
        },
        "id": "rnvbbC-bIsbb",
        "outputId": "fe081270-2f63-402c-ab1c-353786c8aa1b"
      },
      "source": [
        "np.linspace(2,10,4)"
      ],
      "execution_count": 12,
      "outputs": [
        {
          "output_type": "execute_result",
          "data": {
            "text/plain": [
              "array([ 2.        ,  4.66666667,  7.33333333, 10.        ])"
            ]
          },
          "metadata": {
            "tags": []
          },
          "execution_count": 12
        }
      ]
    },
    {
      "cell_type": "code",
      "metadata": {
        "colab": {
          "base_uri": "https://localhost:8080/"
        },
        "id": "U-gmWOhPJdgq",
        "outputId": "9801e7f0-a74b-42b3-c2f4-1936704f98be"
      },
      "source": [
        "np.linspace(2,10,4)"
      ],
      "execution_count": 13,
      "outputs": [
        {
          "output_type": "execute_result",
          "data": {
            "text/plain": [
              "array([ 2.        ,  4.66666667,  7.33333333, 10.        ])"
            ]
          },
          "metadata": {
            "tags": []
          },
          "execution_count": 13
        }
      ]
    },
    {
      "cell_type": "code",
      "metadata": {
        "colab": {
          "base_uri": "https://localhost:8080/"
        },
        "id": "92woC3eTJu1N",
        "outputId": "bfb6a7c6-11dc-4265-8464-dd1f9cc52ba9"
      },
      "source": [
        "np.linspace(2,20,4)"
      ],
      "execution_count": 14,
      "outputs": [
        {
          "output_type": "execute_result",
          "data": {
            "text/plain": [
              "array([ 2.,  8., 14., 20.])"
            ]
          },
          "metadata": {
            "tags": []
          },
          "execution_count": 14
        }
      ]
    },
    {
      "cell_type": "code",
      "metadata": {
        "id": "Th2NqNOjJz5N"
      },
      "source": [
        "e=np.arange(0,20,2)\r\n"
      ],
      "execution_count": 15,
      "outputs": []
    },
    {
      "cell_type": "code",
      "metadata": {
        "colab": {
          "base_uri": "https://localhost:8080/"
        },
        "id": "W5N-H7EMKFfo",
        "outputId": "22ad7a96-1927-41ed-bd4f-a32e7785e504"
      },
      "source": [
        "len(e)"
      ],
      "execution_count": 16,
      "outputs": [
        {
          "output_type": "execute_result",
          "data": {
            "text/plain": [
              "10"
            ]
          },
          "metadata": {
            "tags": []
          },
          "execution_count": 16
        }
      ]
    },
    {
      "cell_type": "code",
      "metadata": {
        "colab": {
          "base_uri": "https://localhost:8080/"
        },
        "id": "70pld10RKGxo",
        "outputId": "49fcc24e-ab97-41a8-a7a0-c79408666523"
      },
      "source": [
        "e.reshape(5,2)"
      ],
      "execution_count": 17,
      "outputs": [
        {
          "output_type": "execute_result",
          "data": {
            "text/plain": [
              "array([[ 0,  2],\n",
              "       [ 4,  6],\n",
              "       [ 8, 10],\n",
              "       [12, 14],\n",
              "       [16, 18]])"
            ]
          },
          "metadata": {
            "tags": []
          },
          "execution_count": 17
        }
      ]
    },
    {
      "cell_type": "code",
      "metadata": {
        "colab": {
          "base_uri": "https://localhost:8080/"
        },
        "id": "L71TjshkKKS7",
        "outputId": "3fc9026a-1d3a-490b-9966-38e220b16bd0"
      },
      "source": [
        "e.reshape(2,5)"
      ],
      "execution_count": 18,
      "outputs": [
        {
          "output_type": "execute_result",
          "data": {
            "text/plain": [
              "array([[ 0,  2,  4,  6,  8],\n",
              "       [10, 12, 14, 16, 18]])"
            ]
          },
          "metadata": {
            "tags": []
          },
          "execution_count": 18
        }
      ]
    },
    {
      "cell_type": "code",
      "metadata": {
        "colab": {
          "base_uri": "https://localhost:8080/"
        },
        "id": "r4U5pf-IKmB-",
        "outputId": "ee17e227-d18e-4e7e-a3c2-0b6dd910c01f"
      },
      "source": [
        "print(e)"
      ],
      "execution_count": 19,
      "outputs": [
        {
          "output_type": "stream",
          "text": [
            "[ 0  2  4  6  8 10 12 14 16 18]\n"
          ],
          "name": "stdout"
        }
      ]
    },
    {
      "cell_type": "code",
      "metadata": {
        "colab": {
          "base_uri": "https://localhost:8080/"
        },
        "id": "ysxNHgImKopN",
        "outputId": "36b6678f-b34e-44fb-b274-05760722a13c"
      },
      "source": [
        "e[-2:]"
      ],
      "execution_count": 20,
      "outputs": [
        {
          "output_type": "execute_result",
          "data": {
            "text/plain": [
              "array([16, 18])"
            ]
          },
          "metadata": {
            "tags": []
          },
          "execution_count": 20
        }
      ]
    },
    {
      "cell_type": "code",
      "metadata": {
        "id": "ZdDCys1ZKxIa"
      },
      "source": [
        "f=e.reshape(5,2)"
      ],
      "execution_count": 21,
      "outputs": []
    },
    {
      "cell_type": "code",
      "metadata": {
        "colab": {
          "base_uri": "https://localhost:8080/"
        },
        "id": "2acHL79_Mh0c",
        "outputId": "52200890-1710-4866-ab3d-fb680d39f5cd"
      },
      "source": [
        "print(f)"
      ],
      "execution_count": 22,
      "outputs": [
        {
          "output_type": "stream",
          "text": [
            "[[ 0  2]\n",
            " [ 4  6]\n",
            " [ 8 10]\n",
            " [12 14]\n",
            " [16 18]]\n"
          ],
          "name": "stdout"
        }
      ]
    },
    {
      "cell_type": "code",
      "metadata": {
        "colab": {
          "base_uri": "https://localhost:8080/"
        },
        "id": "mf_aIWTtMiuv",
        "outputId": "2b849edb-653d-4610-d064-6bc858236d91"
      },
      "source": [
        "f[:]"
      ],
      "execution_count": 23,
      "outputs": [
        {
          "output_type": "execute_result",
          "data": {
            "text/plain": [
              "array([[ 0,  2],\n",
              "       [ 4,  6],\n",
              "       [ 8, 10],\n",
              "       [12, 14],\n",
              "       [16, 18]])"
            ]
          },
          "metadata": {
            "tags": []
          },
          "execution_count": 23
        }
      ]
    },
    {
      "cell_type": "code",
      "metadata": {
        "colab": {
          "base_uri": "https://localhost:8080/"
        },
        "id": "uZcA-qDYMk_t",
        "outputId": "6d8d8252-5bd8-4b42-d602-628b159a51f3"
      },
      "source": [
        "np.random.randint(1,20,10)"
      ],
      "execution_count": 24,
      "outputs": [
        {
          "output_type": "execute_result",
          "data": {
            "text/plain": [
              "array([18,  7,  9,  2,  4, 15, 17,  3,  7, 12])"
            ]
          },
          "metadata": {
            "tags": []
          },
          "execution_count": 24
        }
      ]
    },
    {
      "cell_type": "code",
      "metadata": {
        "colab": {
          "base_uri": "https://localhost:8080/"
        },
        "id": "NhnPD3hEM4GG",
        "outputId": "f02a4e10-0a2f-4713-d478-befa1b88f4a8"
      },
      "source": [
        "np.random.randn(3)"
      ],
      "execution_count": 25,
      "outputs": [
        {
          "output_type": "execute_result",
          "data": {
            "text/plain": [
              "array([-1.46321028,  1.04018152,  0.55706589])"
            ]
          },
          "metadata": {
            "tags": []
          },
          "execution_count": 25
        }
      ]
    },
    {
      "cell_type": "code",
      "metadata": {
        "id": "0c9BmbgnNfxl"
      },
      "source": [
        "x=np.linspace(1,10,21)\r\n",
        "y=x**2\r\n",
        "y2=x**3"
      ],
      "execution_count": 26,
      "outputs": []
    },
    {
      "cell_type": "code",
      "metadata": {
        "colab": {
          "base_uri": "https://localhost:8080/",
          "height": 295
        },
        "id": "erLd58eKNz9W",
        "outputId": "073f6603-a442-4111-c140-0b199affcc75"
      },
      "source": [
        "plt.figure()\r\n",
        "plt.plot(x,y,'r-x',label='Y1')\r\n",
        "plt.plot(x,y2,'k-o',label='Y2')\r\n",
        "plt.legend()\r\n",
        "plt.title('Contoh Kurva Python')\r\n",
        "plt.xlabel('Angka-X')\r\n",
        "plt.ylabel('Angka-Y')\r\n",
        "plt.show()"
      ],
      "execution_count": 27,
      "outputs": [
        {
          "output_type": "display_data",
          "data": {
            "image/png": "[encoded data removed]",
            "text/plain": [
              "<Figure size 432x288 with 1 Axes>"
            ]
          },
          "metadata": {
            "tags": [],
            "needs_background": "light"
          }
        }
      ]
    },
    {
      "cell_type": "code",
      "metadata": {
        "id": "fKDaHZpzOFO7",
        "colab": {
          "base_uri": "https://localhost:8080/"
        },
        "outputId": "4e1eb0c4-cd21-46c0-ff52-5d5396604d17"
      },
      "source": [
        "print (\"M.Iman Rahmanda_1101180335\")\r\n",
        "def cos(frek,tipe,ht,hr,d):\r\n",
        "  #frek = frekuensi (MHz),#tipe = urban, suburban, open,#ht = tinggi tower (meter),#hr = tinggi user (meter),#d = jarak (meter)\r\n",
        "    if frek in range(150,1501):\r\n",
        "        Ca=69.55\r\n",
        "        Cb=26.16\r\n",
        "    elif frek in range(1501,2001):\r\n",
        "        Ca=46.3\r\n",
        "        Cb=33.9\r\n",
        "    \r\n",
        "    if tipe=='urban' :\r\n",
        "        Cm=0\r\n",
        "    elif tipe=='suburban' :\r\n",
        "        Cm= -2*((np.log10((frek/28)**2))-5.4)\r\n",
        "    elif tipe=='open' :\r\n",
        "        Cm= -4.78*(np.log10(frek))+18.33*(np.log10(frek))-40.94\r\n",
        "    else :\r\n",
        "        Cm='tipe salah'\r\n",
        "    \r\n",
        "    ahr = (1.1*np.log10(frek)-0.7)*hr-(1.56*np.log10(frek)-1.8)\r\n",
        "    Lp = Ca+(Cb*np.log10(frek))-(13.83*np.log(ht))-ahr+((44.9-6.55*np.log10(ht))*np.log10(d))-Cm\r\n",
        "    \r\n",
        "    return Lp"
      ],
      "execution_count": 28,
      "outputs": [
        {
          "output_type": "stream",
          "text": [
            "M.Iman Rahmanda_1101180335\n"
          ],
          "name": "stdout"
        }
      ]
    },
    {
      "cell_type": "code",
      "metadata": {
        "colab": {
          "base_uri": "https://localhost:8080/"
        },
        "id": "-Ypp7ujOGuaX",
        "outputId": "b8329528-9c9c-4fcb-c625-faded5378a75"
      },
      "source": [
        "\r\n",
        "f=1800 #MHz\r\n",
        "loc='urban'\r\n",
        "tower=80 #m\r\n",
        "user=1.5 #m\r\n",
        "Dmin=200 #m\r\n",
        "Dmax=700 #m\r\n",
        "N=200 #titik\r\n",
        "D=np.random.randint(Dmin,Dmax,N)\r\n",
        "print(D)"
      ],
      "execution_count": 29,
      "outputs": [
        {
          "output_type": "stream",
          "text": [
            "[531 372 453 643 548 660 376 342 429 439 351 690 249 319 663 414 643 502\n",
            " 341 545 560 611 505 415 220 311 612 525 500 311 290 652 251 506 245 432\n",
            " 473 375 693 634 217 372 341 367 555 636 690 678 488 504 234 455 350 637\n",
            " 228 505 309 432 483 597 509 361 288 339 496 387 245 268 423 224 211 423\n",
            " 200 580 207 462 584 521 419 249 497 516 285 237 509 554 529 274 297 612\n",
            " 281 674 614 624 592 354 466 609 249 428 481 338 258 287 415 295 359 279\n",
            " 528 622 285 349 476 478 402 677 518 402 410 608 467 400 407 455 372 486\n",
            " 443 670 405 519 425 504 286 511 345 307 570 669 402 584 350 364 245 533\n",
            " 381 420 345 486 471 648 534 663 643 212 300 220 218 617 384 623 308 476\n",
            " 396 234 278 316 687 216 526 564 462 386 216 490 226 356 228 563 546 284\n",
            " 606 414 364 323 524 283 662 256 239 333 609 638 640 582 229 378 577 506\n",
            " 635 362]\n"
          ],
          "name": "stdout"
        }
      ]
    },
    {
      "cell_type": "code",
      "metadata": {
        "colab": {
          "base_uri": "https://localhost:8080/"
        },
        "id": "QaXA7QVcHKbi",
        "outputId": "24af5980-0bc4-42cd-e912-5ffe522cef46"
      },
      "source": [
        "\r\n",
        "GrafikUrban=cos(f,loc,tower,user,D)\r\n",
        "print(GrafikUrban)"
      ],
      "execution_count": 30,
      "outputs": [
        {
          "output_type": "stream",
          "text": [
            "[183.3951234  178.38227987 181.15724431 186.09098562 183.83902675\n",
            " 186.45856755 178.53293625 177.19786511 180.39045706 180.71503911\n",
            " 177.56376198 187.08472564 172.72748718 176.2171864  186.52245082\n",
            " 179.88911456 186.09098562 182.60401352 177.15661694 183.76170046\n",
            " 184.14415574 185.37191467 182.68794368 179.92309826 170.98325388\n",
            " 175.85942145 185.39495023 183.2350508  182.54778096 175.85942145\n",
            " 174.87462457 186.28678204 172.84017768 182.71580964 172.49936498\n",
            " 180.48861939 181.76581574 178.49542295 187.14583739 185.89242926\n",
            " 170.78984712 178.38227987 177.15661694 178.19166482 184.01782092\n",
            " 185.9367954  187.08472564 186.83759232 182.20558832 182.66002249\n",
            " 171.85228415 181.21929832 177.52357297 185.95892618 171.48638728\n",
            " 182.68794368 175.76854219 180.48861939 182.06051765 185.04539786\n",
            " 182.79907828 177.95946883 174.77714157 177.07375648 182.43463788\n",
            " 178.93912065 172.49936498 173.76330575 180.19205607 171.23706683\n",
            " 170.39488001 180.19205607 169.64069205 184.63846041 170.12527872\n",
            " 181.43435956 184.73527342 183.12731614 180.05821908 172.72748718\n",
            " 182.46300896 182.99147866 174.62964035 172.03172909 182.79907828\n",
            " 183.99241742 183.34196773 174.07519091 175.21059846 185.39495023\n",
            " 174.43053827 186.75424156 185.44090863 185.668478   184.92692586\n",
            " 177.68364557 181.5557934  185.32573025 172.72748718 180.35758368\n",
            " 182.00206845 177.03214275 173.22764283 174.72814591 179.92309826\n",
            " 175.11542082 177.88121175 174.32992186 183.31531448 185.62325729\n",
            " 174.62964035 177.48326897 181.85487549 181.91393737 179.47478358\n",
            " 186.81680082 183.04597095 179.47478358 179.75235389 185.30258113\n",
            " 181.58598899 179.40452789 179.64890493 181.21929832 178.38227987\n",
            " 182.14773921 180.84280631 186.67039466 179.57951445 183.07313824\n",
            " 180.25850071 182.66002249 174.67897923 182.8543185  177.3208898\n",
            " 175.67707279 184.39347619 186.64935472 179.47478358 184.73527342\n",
            " 177.52357297 178.07604525 172.49936498 183.44807925 178.71901871\n",
            " 180.09179773 177.3208898  182.14773921 181.7061282  186.20009722\n",
            " 183.4744827  186.52245082 186.09098562 170.46148173 175.35216988\n",
            " 170.98325388 170.85461155 185.5095663  178.82949958 185.64588579\n",
            " 175.72288173 181.85487549 179.26295647 171.85228415 174.27934286\n",
            " 176.0840871  187.0233476  170.72478356 183.26185621 184.24441408\n",
            " 181.43435956 178.902675   170.72478356 182.26320082 171.36227866\n",
            " 177.76300487 171.48638728 184.21941631 183.78752308 174.58012804\n",
            " 185.25616844 179.88911456 178.07604525 176.39271811 183.20819429\n",
            " 174.53044108 186.50118857 173.11802175 172.15010153 176.82220984\n",
            " 185.32573025 185.98102224 186.02511066 184.68695008 171.54803393\n",
            " 178.60766448 184.56541147 182.71580964 185.91462979 177.99843493]\n"
          ],
          "name": "stdout"
        }
      ]
    },
    {
      "cell_type": "code",
      "metadata": {
        "id": "C7IbqbcpIzEB"
      },
      "source": [
        "\r\n",
        "D_sorting=D[np.argsort(D)]\r\n",
        "Urban_sorting=GrafikUrban[np.argsort(D)]"
      ],
      "execution_count": 31,
      "outputs": []
    },
    {
      "cell_type": "code",
      "metadata": {
        "colab": {
          "base_uri": "https://localhost:8080/"
        },
        "id": "UG_ZpM5BI7se",
        "outputId": "f17e1680-45f8-40d5-c54f-e4e70e7b1944"
      },
      "source": [
        "\r\n",
        "f=1800 #MHz\r\n",
        "loc='suburban'\r\n",
        "tower=80 #m\r\n",
        "user=1.5 #m\r\n",
        "Dmin=200 #m\r\n",
        "Dmax=700 #m\r\n",
        "N=200 #titik\r\n",
        "A=np.random.randint(Dmin,Dmax,N)\r\n",
        "print(A)"
      ],
      "execution_count": 32,
      "outputs": [
        {
          "output_type": "stream",
          "text": [
            "[444 661 498 208 380 384 401 590 583 237 233 352 414 486 508 289 619 526\n",
            " 429 539 250 633 551 360 635 412 566 266 443 493 439 257 620 622 288 283\n",
            " 434 502 532 478 209 469 298 677 326 619 651 679 255 558 526 589 575 624\n",
            " 220 297 212 276 293 209 693 635 530 211 544 499 201 580 593 227 606 663\n",
            " 677 479 698 262 412 556 458 304 654 637 249 552 534 543 501 478 278 590\n",
            " 238 387 441 679 416 653 609 296 635 234 283 443 557 356 426 246 239 690\n",
            " 416 348 338 399 321 332 336 289 211 548 553 555 461 634 371 436 617 278\n",
            " 495 596 326 624 373 647 605 547 537 426 394 560 368 317 325 685 208 567\n",
            " 542 431 570 505 634 548 462 534 218 333 378 369 576 412 213 205 612 453\n",
            " 202 365 587 385 436 674 219 639 685 524 693 208 521 269 492 358 677 472\n",
            " 405 669 308 619 519 240 693 233 363 252 533 402 556 419 676 526 521 200\n",
            " 471 639]\n"
          ],
          "name": "stdout"
        }
      ]
    },
    {
      "cell_type": "code",
      "metadata": {
        "colab": {
          "base_uri": "https://localhost:8080/"
        },
        "id": "Ytu95UoHJCCQ",
        "outputId": "a2990293-226b-44a9-8444-387a6d648c2d"
      },
      "source": [
        "\r\n",
        "Grafiksuburban=cos(f,loc,tower,user,A)\r\n",
        "print(Grafiksuburban)"
      ],
      "execution_count": 33,
      "outputs": [
        {
          "output_type": "stream",
          "text": [
            "[177.30702575 182.91235208 178.92378091 166.62562223 175.11445625\n",
            " 175.26195747 175.87215743 181.31171455 181.14359037 168.46418699\n",
            " 168.22441545 174.03629454 176.32157245 178.58019711 179.20383462\n",
            " 171.25842529 181.98761076 179.6943141  176.82291496 180.03822055\n",
            " 169.21640301 182.30265157 180.34838877 174.35285253 182.34708769\n",
            " 176.25335809 180.72673482 170.09024827 177.27526421 178.78163805\n",
            " 177.147497   169.60539682 182.01034884 182.05571519 171.20959946\n",
            " 170.96289898 176.98614086 179.03647141 179.8540841  178.34639527\n",
            " 166.69318225 178.07864457 171.6904051  183.24925872 172.95540409\n",
            " 181.98761076 182.69761869 183.29081107 169.49534753 180.52621559\n",
            " 179.6943141  181.28781931 180.94895877 182.10093589 167.41571178\n",
            " 171.64305635 166.89393963 170.61009462 171.4520536  166.69318225\n",
            " 183.57829529 182.34708769 179.80102853 166.82733791 180.1682883\n",
            " 178.95203817 166.14340564 181.0709183  181.383158   167.85692755\n",
            " 181.68862633 182.95490872 183.24925872 178.3758336  183.67956271\n",
            " 169.87681634 176.25335809 180.47563659 177.74432766 171.97120318\n",
            " 182.76238311 182.39138407 169.15994507 180.37393046 179.90694059\n",
            " 180.14237066 179.00838319 178.34639527 170.71180075 181.31171455\n",
            " 168.52349755 175.37157855 177.21152547 183.29081107 176.38945806\n",
            " 182.74082804 181.75818814 171.59554792 182.34708769 168.28474204\n",
            " 170.96289898 177.27526421 180.50094879 174.19546276 176.72406376\n",
            " 168.98920071 168.58255943 183.51718353 176.38945806 173.87530722\n",
            " 173.46460065 175.8017261  172.73768357 173.21230308 173.38100255\n",
            " 171.25842529 166.82733791 180.27148464 180.39942592 180.45027882\n",
            " 177.83629472 182.32488715 174.77682055 177.05090528 181.94202419\n",
            " 170.71180075 178.83866743 181.45424093 172.95540409 182.10093589\n",
            " 174.85255319 182.61080031 181.66536252 180.24575635 179.9858553\n",
            " 176.72406376 175.62409149 180.57661363 174.66245263 172.56105131\n",
            " 172.91212837 183.41473772 166.62562223 180.7516002  180.11640523\n",
            " 176.88843246 180.82593408 179.12040158 182.32488715 180.27148464\n",
            " 177.86681746 179.90694059 167.28706944 173.25466774 175.04012237\n",
            " 174.70067854 180.9734353  176.25335809 166.96022792 166.42097595\n",
            " 181.82740812 177.58970221 166.21331267 174.54714854 181.2399069\n",
            " 175.2985927  177.05090528 183.18669946 167.35153746 182.43554159\n",
            " 183.41473772 179.64065218 183.57829529 166.62562223 179.55977404\n",
            " 170.24822642 178.75303655 174.27437747 183.24925872 178.16846148\n",
            " 176.01197235 183.08181262 172.15533963 181.98761076 179.50559614\n",
            " 168.6413747  183.57829529 168.22441545 174.46975144 169.32864454\n",
            " 179.88053714 175.90724148 180.47563659 176.49067697 183.22843649\n",
            " 179.6943141  179.55977404 166.07314994 178.1385861  182.43554159]\n"
          ],
          "name": "stdout"
        }
      ]
    },
    {
      "cell_type": "code",
      "metadata": {
        "id": "ggcrgTQ1KDb_"
      },
      "source": [
        "\r\n",
        "A_sorting=A[np.argsort(A)]\r\n",
        "suburban_sorting=Grafiksuburban[np.argsort(A)]"
      ],
      "execution_count": 34,
      "outputs": []
    },
    {
      "cell_type": "code",
      "metadata": {
        "colab": {
          "base_uri": "https://localhost:8080/"
        },
        "id": "I8Raj1IoKKvW",
        "outputId": "23bd19e5-40fa-479e-bcb5-e570f8397a19"
      },
      "source": [
        "\r\n",
        "f=1800 #MHz\r\n",
        "loc='open'\r\n",
        "tower=80 #m\r\n",
        "user=1.5 #m\r\n",
        "Dmin=200 #m\r\n",
        "Dmax=700 #m\r\n",
        "N=200 #titik\r\n",
        "B=np.random.randint(Dmin,Dmax,N)\r\n",
        "print(B)"
      ],
      "execution_count": 35,
      "outputs": [
        {
          "output_type": "stream",
          "text": [
            "[214 294 374 507 405 562 388 594 506 604 314 560 672 213 384 426 265 558\n",
            " 652 466 408 363 410 664 541 506 223 647 325 478 553 404 426 291 201 570\n",
            " 262 289 404 570 338 522 630 516 299 498 658 685 331 549 340 425 520 545\n",
            " 572 570 380 335 330 314 688 240 313 624 340 335 259 287 364 535 465 622\n",
            " 372 438 461 363 582 542 234 489 631 226 660 486 367 533 475 298 507 206\n",
            " 305 589 299 641 546 234 689 208 387 355 414 429 449 445 630 529 250 475\n",
            " 492 457 668 222 506 583 252 257 301 347 227 686 276 214 465 385 262 315\n",
            " 339 398 245 283 216 282 201 602 306 657 294 382 617 384 502 244 270 502\n",
            " 534 560 634 603 571 669 396 316 611 399 516 390 542 526 535 556 662 642\n",
            " 316 503 649 574 323 425 222 325 620 439 514 497 633 559 570 553 275 411\n",
            " 397 696 257 681 378 215 466 683 319 655 577 370 207 551 595 431 330 484\n",
            " 511 200]\n"
          ],
          "name": "stdout"
        }
      ]
    },
    {
      "cell_type": "code",
      "metadata": {
        "colab": {
          "base_uri": "https://localhost:8080/"
        },
        "id": "64iZtUvBKlRb",
        "outputId": "b7574af0-3374-4341-d192-d3a30deb4ab3"
      },
      "source": [
        "\r\n",
        "Grafikopen=cos(f,loc,tower,user,B)\r\n",
        "print(Grafikopen)"
      ],
      "execution_count": 36,
      "outputs": [
        {
          "output_type": "stream",
          "text": [
            "[167.4248054  171.8986473  175.28886703 179.57467814 176.41057201\n",
            " 181.02543166 175.80652981 181.80549185 179.5468672  182.04065988\n",
            " 172.82570793 180.97521329 183.54343805 167.35882758 175.66055713\n",
            " 177.12266342 170.43579236 180.92481525 183.11783959 178.38685095\n",
            " 176.51452995 174.8683511  176.58341145 183.37473858 180.48899152\n",
            " 179.5468672  168.00509861 183.00939997 173.31072803 178.74499493\n",
            " 180.79802558 176.37574817 177.12266342 171.7541718  166.5420053\n",
            " 181.22453374 170.275416   171.65702495 176.37574817 181.22453374\n",
            " 173.86320031 179.98538471 182.63433311 179.82253622 172.13619488\n",
            " 179.32238057 183.24687473 183.81333738 173.56841029 180.69576569\n",
            " 173.9463052  177.08955827 179.9313108  180.59275801 181.27387263\n",
            " 181.22453374 175.51305591 173.73761638 173.52578927 172.82570793\n",
            " 183.87489423 169.03997436 172.78077571 182.49953555 173.9463052\n",
            " 173.73761638 170.11319266 171.55920346 174.90710281 180.33189431\n",
            " 178.3565905  182.45431485 175.21333742 177.51397296 178.23489438\n",
            " 174.8683511  181.51800764 180.51500489 168.68334171 179.06548158\n",
            " 182.65667449 168.19333621 183.2896251  178.97879677 175.02272237\n",
            " 180.2791368  178.65630898 172.08900476 179.57467814 166.88812191\n",
            " 172.41606311 181.68641898 172.13619488 182.87816078 180.61858064\n",
            " 168.68334171 183.89535355 167.02422189 175.77017821 174.55443866\n",
            " 176.72017211 177.22151462 177.86336768 177.7373155  182.63433311\n",
            " 180.17302528 169.61500267 178.65630898 179.15163621 178.11213772\n",
            " 183.45934086 167.94178957 179.5468672  181.54219003 169.72724421\n",
            " 170.00399648 172.23010347 174.23337092 168.25552721 183.83388623\n",
            " 171.00869428 167.4248054  178.3565905  175.69719236 170.275416\n",
            " 172.87049728 173.90481404 176.16497759 169.33042254 171.36149864\n",
            " 167.55584111 171.3116358  166.5420053  181.99393931 172.46217195\n",
            " 183.22545079 171.8986473  175.58699959 182.34062386 175.66055713\n",
            " 179.43507107 169.27281004 170.69909418 179.43507107 180.30554025\n",
            " 180.97521329 182.72348681 182.01731897 181.24922479 183.48041228\n",
            " 176.09401402 172.91514466 182.20297223 176.20032576 179.82253622\n",
            " 175.87895279 180.51500489 180.09291376 180.33189431 180.87423625\n",
            " 183.33224613 182.90011907 172.91514466 179.4631034  183.05287604\n",
            " 181.3230393  173.22377567 177.08955827 167.94178957 173.31072803\n",
            " 182.4089485  177.54609666 179.76783232 179.29406652 182.70125123\n",
            " 180.95003681 181.22453374 180.79802558 170.95756451 176.6177263\n",
            " 176.12954049 184.03774272 170.00399648 183.73084087 175.43872203\n",
            " 167.49047562 178.38685095 183.77214952 173.04824396 183.18250491\n",
            " 181.39646903 175.13740065 166.95633627 180.74698843 181.82918612\n",
            " 177.28703212 173.52578927 178.92070911 179.68537606 166.4717496 ]\n"
          ],
          "name": "stdout"
        }
      ]
    },
    {
      "cell_type": "code",
      "metadata": {
        "id": "um6RQXkNMEDH"
      },
      "source": [
        "\r\n",
        "B_sorting=B[np.argsort(B)]\r\n",
        "open_sorting=Grafikopen[np.argsort(B)]"
      ],
      "execution_count": 37,
      "outputs": []
    },
    {
      "cell_type": "code",
      "metadata": {
        "colab": {
          "base_uri": "https://localhost:8080/",
          "height": 295
        },
        "id": "nunlJ9O1MEGl",
        "outputId": "eb040a1f-9cf9-4d4d-966b-c02d39b2bd66"
      },
      "source": [
        "\r\n",
        "plt.figure()\r\n",
        "plt.plot(D_sorting,Urban_sorting,'r', label='Urban')\r\n",
        "plt.plot(B_sorting,open_sorting,'g', label='Open')\r\n",
        "plt.plot(A_sorting,suburban_sorting,'b', label='Suburban')\r\n",
        "plt.legend()\r\n",
        "plt.title('FREKUENSI 1800 MHZ (GAMBAR CONTOH)')\r\n",
        "plt.xlabel('Jarak (m)')\r\n",
        "plt.ylabel('Path Loss (dB)')\r\n",
        "plt.show()"
      ],
      "execution_count": 38,
      "outputs": [
        {
          "output_type": "display_data",
          "data": {
            "image/png": "[encoded data removed]",
            "text/plain": [
              "<Figure size 432x288 with 1 Axes>"
            ]
          },
          "metadata": {
            "tags": [],
            "needs_background": "light"
          }
        }
      ]
    },
    {
      "cell_type": "code",
      "metadata": {
        "colab": {
          "base_uri": "https://localhost:8080/"
        },
        "id": "7fIk7WkbMPNU",
        "outputId": "3147aed6-cdfb-43db-91e0-6bc27e07c32d"
      },
      "source": [
        "\r\n",
        "f=1800 #MHz\r\n",
        "loc='urban'\r\n",
        "tower=80 #m\r\n",
        "user=1.5 #m\r\n",
        "Dmin=200 #m\r\n",
        "Dmax=700 #m\r\n",
        "N=200 #titik\r\n",
        "P=np.random.randint(Dmin,Dmax,N)\r\n",
        "print(P)"
      ],
      "execution_count": 39,
      "outputs": [
        {
          "output_type": "stream",
          "text": [
            "[255 590 385 673 612 574 267 312 641 647 265 588 285 330 315 355 592 371\n",
            " 205 266 576 447 582 281 387 200 341 523 246 620 694 420 395 326 420 435\n",
            " 551 574 407 229 391 510 319 277 553 242 242 697 648 411 319 634 291 486\n",
            " 539 624 411 683 315 400 659 648 426 599 399 637 686 567 526 225 393 342\n",
            " 220 410 435 643 553 437 681 336 327 658 373 313 684 463 229 346 464 608\n",
            " 479 272 280 534 367 671 213 545 329 267 265 544 398 274 305 392 375 689\n",
            " 472 448 256 275 676 451 663 630 471 362 224 225 612 266 679 535 675 434\n",
            " 365 303 577 689 206 484 215 271 326 530 309 379 504 368 306 414 530 355\n",
            " 348 502 481 405 656 556 323 390 616 354 499 355 369 473 644 269 295 399\n",
            " 462 569 251 283 232 652 303 540 202 390 503 693 699 657 232 622 431 286\n",
            " 546 652 490 674 539 431 207 633 371 262 388 609 204 514 230 524 392 437\n",
            " 520 574]\n"
          ],
          "name": "stdout"
        }
      ]
    },
    {
      "cell_type": "code",
      "metadata": {
        "colab": {
          "base_uri": "https://localhost:8080/"
        },
        "id": "vWXqDVoYQSUB",
        "outputId": "e53fa7ca-b94b-4d74-f67c-dc1d1aa75b75"
      },
      "source": [
        "\r\n",
        "GrafikUrban1=cos(f,loc,tower,user,P)\r\n",
        "print(GrafikUrban1)"
      ],
      "execution_count": 40,
      "outputs": [
        {
          "output_type": "stream",
          "text": [
            "[173.06288963 184.87925665 178.8661348  186.73332658 185.39495023\n",
            " 184.49198175 173.71064686 175.90464216 186.04710322 186.17834241\n",
            " 173.6047348  184.83142558 174.62964035 176.69473171 176.03943972\n",
            " 177.72338111 184.92692586 178.34436265 169.98851806 173.65779037\n",
            " 184.5409774  180.96942503 184.68695008 174.43053827 178.93912065\n",
            " 169.64069205 177.15661694 183.18128647 172.55674281 185.57789095\n",
            " 187.1661492  180.09179773 179.22734017 176.5229462  180.09179773\n",
            " 180.5861024  183.91593088 184.49198175 179.64890493 171.54803393\n",
            " 179.08396756 182.82672547 176.2171864  174.22858158 183.96696802\n",
            " 172.32581571 172.32581571 187.22690949 186.20009722 179.78666874\n",
            " 176.2171864  185.89242926 174.92311425 182.14773921 183.60576266\n",
            " 185.668478   179.78666874 186.94109196 176.03943972 179.40452789\n",
            " 186.43720858 186.20009722 180.29160587 185.09250907 179.3692682\n",
            " 185.95892618 187.00282867 184.31914231 183.26185621 171.29981187\n",
            " 179.15583628 177.19786511 170.98325388 179.75235389 180.5861024\n",
            " 186.09098562 183.96696802 180.65071828 186.89978332 176.94854466\n",
            " 176.56608938 186.41581717 178.42009529 175.94971816 186.96170094\n",
            " 181.4648163  171.54803393 177.36166041 181.49520734 185.30258113\n",
            " 181.94337571 173.97199457 174.3803199  183.4744827  178.19166482\n",
            " 186.69140322 170.52777003 183.76170046 176.65198134 173.71064686\n",
            " 173.6047348  183.73583041 179.33392003 174.07519091 175.58500555\n",
            " 179.11994775 178.49542295 187.06429599 181.73600358 181.00090267\n",
            " 173.11802175 174.12650695 186.79597859 181.09491573 186.52245082\n",
            " 185.80327556 181.7061282  177.99843493 171.23706683 171.29981187\n",
            " 185.39495023 173.65779037 186.85835318 183.50083675 186.77512553\n",
            " 180.55368296 178.11469065 175.4923326  184.56541147 187.06429599\n",
            " 170.05706436 182.08965155 170.65941807 173.9201115  176.5229462\n",
            " 183.36857064 175.76854219 178.64488045 182.66002249 178.22999474\n",
            " 175.63111439 179.88911456 183.36857064 177.72338111 177.44284933\n",
            " 182.60401352 182.00206845 179.57951445 186.37293666 184.04317869\n",
            " 176.39271811 179.04789523 185.48671757 177.68364557 182.51958027\n",
            " 177.72338111 178.26822064 181.76581574 186.11287566 173.81576852\n",
            " 175.11542082 179.3692682  181.43435956 184.36874179 172.84017768\n",
            " 174.53044108 171.7313715  186.28678204 175.4923326  183.63187246\n",
            " 169.78085477 179.04789523 182.63204584 187.14583739 187.26727123\n",
            " 186.39439323 171.7313715  185.62325729 180.45597456 174.67897923\n",
            " 183.78752308 186.28678204 182.26320082 186.75424156 183.60576266\n",
            " 180.45597456 170.12527872 185.87019368 178.34436265 173.44435845\n",
            " 178.97547226 185.32573025 169.91963656 182.93677476 171.60941197\n",
            " 183.20819429 179.11994775 180.65071828 183.10025324 184.49198175]\n"
          ],
          "name": "stdout"
        }
      ]
    },
    {
      "cell_type": "code",
      "metadata": {
        "id": "RYcjUqpuQ1F-"
      },
      "source": [
        "\r\n",
        "P_sorting=P[np.argsort(P)]\r\n",
        "Urban_sorting1=GrafikUrban1[np.argsort(P)]"
      ],
      "execution_count": 41,
      "outputs": []
    },
    {
      "cell_type": "code",
      "metadata": {
        "colab": {
          "base_uri": "https://localhost:8080/"
        },
        "id": "eiAdiCpuQmq8",
        "outputId": "f74c7ee4-f544-4327-9bd4-c91912add284"
      },
      "source": [
        "\r\n",
        "f=900 #MHz\r\n",
        "loc='urban'\r\n",
        "tower=80 #m\r\n",
        "user=1.5 #m\r\n",
        "Dmin=200 #m\r\n",
        "Dmax=700 #m\r\n",
        "N=200 #titik\r\n",
        "K=np.random.randint(Dmin,Dmax,N)\r\n",
        "print(K)"
      ],
      "execution_count": 42,
      "outputs": [
        {
          "output_type": "stream",
          "text": [
            "[475 649 251 290 354 638 210 502 477 490 252 258 361 295 227 411 693 426\n",
            " 382 423 554 376 667 325 500 524 518 247 422 474 296 267 204 501 416 266\n",
            " 632 459 326 501 379 452 453 351 579 453 225 621 679 318 560 608 429 444\n",
            " 477 562 539 481 439 685 664 330 377 295 519 389 513 201 262 638 447 380\n",
            " 277 472 471 542 570 551 486 425 583 209 253 470 297 608 531 396 478 208\n",
            " 581 524 211 252 628 333 258 664 552 209 285 661 211 530 539 418 346 360\n",
            " 470 394 501 420 502 625 681 446 441 238 437 252 411 458 347 269 460 501\n",
            " 444 533 636 396 279 333 474 594 549 248 651 644 655 508 459 232 252 253\n",
            " 668 655 560 492 462 277 323 505 696 529 687 334 392 225 533 279 432 315\n",
            " 426 629 421 538 482 445 621 239 490 259 431 382 456 424 432 679 641 313\n",
            " 657 483 235 207 625 355 651 252 454 417 397 551 264 642 494 443 311 225\n",
            " 254 586]\n"
          ],
          "name": "stdout"
        }
      ]
    },
    {
      "cell_type": "code",
      "metadata": {
        "colab": {
          "base_uri": "https://localhost:8080/"
        },
        "id": "8Zcm8_JzRPxH",
        "outputId": "b7bc999f-f4c0-4a07-c7d1-9455c961ad77"
      },
      "source": [
        "\r\n",
        "GrafikUrban2=cos(f,loc,tower,user,K)\r\n",
        "print(GrafikUrban2)"
      ],
      "execution_count": 43,
      "outputs": [
        {
          "output_type": "stream",
          "text": [
            "[172.03159025 176.42815731 163.0465165  165.08096339 167.8899844\n",
            " 176.18736106 160.53430071 172.81035234 172.09077621 172.46953965\n",
            " 163.10252547 163.43398165 168.16580765 165.32175964 161.63080847\n",
            " 169.99300756 177.35217621 170.49794469 168.96228086 170.39839489\n",
            " 174.19875625 168.73927508 176.81351915 166.68600929 172.75411978\n",
            " 173.41453311 173.25230977 162.8202267  170.36505467 172.00190375\n",
            " 165.36942885 163.91698568 160.12597538 172.78226412 170.16333899\n",
            " 163.8641292  176.05426176 171.54893104 166.72928502 172.78226412\n",
            " 168.85121927 171.33245332 171.36358314 167.7701008  174.82049165\n",
            " 171.36358314 161.50615069 175.80693121 177.064692   166.37929838\n",
            " 174.35049456 175.50891995 170.59679589 171.08090668 172.09077621\n",
            " 174.40071293 173.81210148 172.20840727 170.92137793 177.18861864\n",
            " 176.75001985 166.90107053 168.77668874 165.32175964 173.27947706\n",
            " 169.21806911 173.11568176 159.91728657 163.65069727 176.18736106\n",
            " 171.17576385 168.88833718 164.43492041 171.94234241 171.91246703\n",
            " 173.89028616 174.59981501 174.1222697  172.35407804 170.46483953\n",
            " 174.9174713  160.46706318 163.15831263 171.88252815 165.41693728\n",
            " 175.50891995 173.60146223 169.46929529 172.1202762  160.39950315\n",
            " 174.86906493 173.41453311 160.60121883 163.10252547 175.96482504\n",
            " 167.02854867 163.43398165 176.75001985 174.14781139 160.46706318\n",
            " 164.83597917 176.686233   160.60121883 173.57490946 173.81210148\n",
            " 170.23089901 167.56799924 168.12673346 171.88252815 169.39797242\n",
            " 172.78226412 170.29813655 172.81035234 175.89737285 177.10612214\n",
            " 171.14421572 170.9854064  162.29737848 170.8570571  163.10252547\n",
            " 169.99300756 171.51820859 167.60865219 164.02210735 171.57958663\n",
            " 172.78226412 171.08090668 173.65441807 176.14313422 169.46929529\n",
            " 164.53626068 167.02854867 172.00190375 175.18077312 174.07104696\n",
            " 162.87714086 176.47149961 176.31921448 176.55778618 172.97771555\n",
            " 171.54893104 161.93771032 163.10252547 163.15831263 176.83462213\n",
            " 176.55778618 174.35049456 172.52691748 171.64069839 164.43492041\n",
            " 166.59905694 172.8942825  177.41302399 173.54830655 177.22968642\n",
            " 167.07078629 169.32628658 161.50615069 173.65441807 164.53626068\n",
            " 170.69495822 166.24577854 170.49794469 175.98723751 170.33163535\n",
            " 173.78594319 172.23766219 171.11259676 175.80693121 162.35644036\n",
            " 172.46953965 163.48847393 170.66231339 168.96228086 171.45656194\n",
            " 170.43165639 170.69495822 177.064692   176.25344205 166.15605698\n",
            " 176.60073206 172.26685647 162.11869231 160.33161754 175.89737285\n",
            " 167.92971993 176.47149961 163.10252547 171.39464431 170.19715951\n",
            " 169.50482176 174.1222697  163.75781746 176.27540033 172.58406253\n",
            " 171.04914514 166.06576028 161.50615069 163.21387971 174.98977036]\n"
          ],
          "name": "stdout"
        }
      ]
    },
    {
      "cell_type": "code",
      "metadata": {
        "id": "54VZjGwzRspt"
      },
      "source": [
        "\r\n",
        "K_sorting=K[np.argsort(K)]\r\n",
        "Urban_sorting2=GrafikUrban2[np.argsort(K)]"
      ],
      "execution_count": 44,
      "outputs": []
    },
    {
      "cell_type": "code",
      "metadata": {
        "colab": {
          "base_uri": "https://localhost:8080/"
        },
        "id": "KBypQ5tqXhix",
        "outputId": "2b5b3a6e-c7f0-4971-b7de-05de0d36ed7e"
      },
      "source": [
        "\r\n",
        "f=700 #MHz\r\n",
        "loc='urban'\r\n",
        "tower=80 #m\r\n",
        "user=1.5 #m\r\n",
        "Dmin=200 #m\r\n",
        "Dmax=700 #m\r\n",
        "N=200 #titik\r\n",
        "R=np.random.randint(Dmin,Dmax,N)\r\n",
        "print(R)"
      ],
      "execution_count": 45,
      "outputs": [
        {
          "output_type": "stream",
          "text": [
            "[548 392 302 351 526 414 359 308 654 294 522 411 499 225 442 580 304 650\n",
            " 256 429 414 409 675 296 422 300 675 389 428 686 305 265 520 430 370 514\n",
            " 316 209 691 489 622 688 313 222 530 504 300 436 210 405 357 394 546 556\n",
            " 566 515 272 479 667 295 540 279 414 329 534 330 550 635 491 476 655 526\n",
            " 297 450 522 533 586 526 270 627 203 649 395 490 563 216 600 591 604 444\n",
            " 675 549 253 486 680 561 597 684 633 512 433 572 320 499 312 640 557 270\n",
            " 572 453 473 637 218 533 694 363 397 484 357 641 419 611 600 661 581 217\n",
            " 673 535 362 459 361 575 510 528 399 222 638 682 394 345 208 558 231 599\n",
            " 312 551 336 558 301 694 320 251 275 641 682 542 585 373 333 478 213 319\n",
            " 667 685 508 699 393 324 454 349 520 297 458 321 366 656 257 527 574 502\n",
            " 235 206 359 270 326 201 337 454 453 475 273 563 492 268 353 301 364 444\n",
            " 575 445]\n"
          ],
          "name": "stdout"
        }
      ]
    },
    {
      "cell_type": "code",
      "metadata": {
        "colab": {
          "base_uri": "https://localhost:8080/"
        },
        "id": "J9kyn6vtXhp7",
        "outputId": "e07ffb6d-e515-4837-d0fe-f90a926d4fdd"
      },
      "source": [
        "\r\n",
        "GrafikUrban3=cos(f,loc,tower,user,R)\r\n",
        "print(GrafikUrban3)"
      ],
      "execution_count": 46,
      "outputs": [
        {
          "output_type": "stream",
          "text": [
            "[171.19996926 166.48089026 162.80670899 164.92470448 170.62279871\n",
            " 167.25005706 165.24215426 163.08382424 173.69086772 162.42853225\n",
            " 170.51526966 167.14761125 169.88052278 158.66075437 168.1719155\n",
            " 171.99940291 162.89968779 173.60444882 160.47896425 167.75139957\n",
            " 167.25005706 167.07889776 174.13606804 162.52403253 167.51965835\n",
            " 162.71311238 174.13606804 166.37267279 167.71852619 174.36377118\n",
            " 162.94594806 160.96567731 170.46119575 167.78419641 165.6672856\n",
            " 170.29771727 163.44502961 157.62166686 174.4660682  169.59536653\n",
            " 172.9841998  174.40477918 163.31066066 158.47167452 170.72951314\n",
            " 170.02096499 162.71311238 167.97938989 157.6889044  166.94045696\n",
            " 165.16345999 166.5525761  171.14846559 171.4041212  171.65521943\n",
            " 170.32509577 161.33293708 169.30431821 173.96812283 162.47636332\n",
            " 170.99281497 161.69086436 167.25005706 164.01292384 170.8354252\n",
            " 164.05567422 171.2512853  173.2755723  169.65286146 169.215818\n",
            " 173.71238986 170.62279871 162.57154096 168.42459021 170.51526966\n",
            " 170.80902175 172.14437405 170.62279871 161.22897913 173.09698053\n",
            " 157.21135909 173.58276099 166.58828268 169.62414333 171.58035882\n",
            " 158.08572606 172.47694822 172.26405393 172.57054483 168.23551036\n",
            " 174.13606804 171.22565064 160.31291631 169.50868172 174.24002598\n",
            " 171.53022981 172.40634037 174.32264345 173.23113618 170.24280009\n",
            " 167.88213125 171.80375758 163.62221732 169.88052278 163.26558467\n",
            " 173.38605316 171.4294334  161.22897913 171.80375758 168.51818682\n",
            " 169.12675824 173.31986868 158.21555405 170.80902175 174.52709171\n",
            " 165.39823605 166.65942544 169.45059406 165.16345999 173.40804573\n",
            " 167.41916158 172.73285718 172.47694822 173.84083669 172.02366862\n",
            " 158.15078963 174.09426909 170.86177926 165.35937744 168.70353472\n",
            " 165.32041133 171.87744338 170.18766798 170.67625698 166.73021071\n",
            " 158.47167452 173.34196474 174.28139529 166.5525761  164.6818323\n",
            " 157.55410684 171.4547002  159.03146623 172.45345157 163.26558467\n",
            " 171.27687338 164.30948716 171.4547002  162.75998842 174.52709171\n",
            " 163.62221732 160.20112018 161.48744946 173.40804573 174.28139529\n",
            " 171.04488984 172.12031556 165.7810378  164.18315235 169.27487988\n",
            " 157.88871253 163.57812891 173.96812283 174.34322233 170.13231923\n",
            " 174.62821373 166.51677878 163.79720389 168.54924799 164.84421148\n",
            " 170.46119575 162.57154096 168.67281227 163.66616818 165.51417282\n",
            " 173.73387917 160.53388143 170.64955321 171.85292425 169.96495602\n",
            " 159.27329599 157.41800686 165.24215426 161.22897913 163.8838887\n",
            " 157.07189025 164.35134823 168.54924799 168.51818682 169.18619393\n",
            " 161.38462975 171.58035882 169.68152116 161.12424826 165.00474014\n",
            " 162.75998842 165.43698776 168.23551036 171.87744338 168.26720045]\n"
          ],
          "name": "stdout"
        }
      ]
    },
    {
      "cell_type": "code",
      "metadata": {
        "id": "mwVNNJ8JXmFZ"
      },
      "source": [
        "\r\n",
        "R_sorting=R[np.argsort(R)]\r\n",
        "Urban_sorting3=GrafikUrban3[np.argsort(R)]"
      ],
      "execution_count": 47,
      "outputs": []
    },
    {
      "cell_type": "code",
      "metadata": {
        "id": "AekRjMIjXmIv",
        "colab": {
          "base_uri": "https://localhost:8080/",
          "height": 295
        },
        "outputId": "9b701f9b-8597-4948-88da-8a0b457a5e36"
      },
      "source": [
        "plt.figure()\r\n",
        "plt.plot(P_sorting,Urban_sorting1,'r', label='1800 Mhz')\r\n",
        "plt.plot(K_sorting,Urban_sorting2,'g', label='900 Mhz')\r\n",
        "plt.plot(R_sorting,Urban_sorting3,'b', label='700 Mhz')\r\n",
        "plt.legend()\r\n",
        "plt.title('Model Urban (GAMBAR CONTOH)')\r\n",
        "plt.xlabel('Jarak (m)')\r\n",
        "plt.ylabel('Path Loss (dB)')\r\n",
        "plt.show()"
      ],
      "execution_count": 48,
      "outputs": [
        {
          "output_type": "display_data",
          "data": {
            "image/png": "[encoded data removed]",
            "text/plain": [
              "<Figure size 432x288 with 1 Axes>"
            ]
          },
          "metadata": {
            "tags": [],
            "needs_background": "light"
          }
        }
      ]
    }
  ]
}